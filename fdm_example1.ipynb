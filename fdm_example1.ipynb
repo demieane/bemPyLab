{
 "cells": [
  {
   "cell_type": "markdown",
   "metadata": {},
   "source": [
    "# Finite difference method\n",
    "\n",
    "In numerical analysis, finite-difference methods (FDM) are widely used for the solution of differential equations and are based on the idea of approximating the derivative terms with finite differences. This method was propably one of the first approaches to the numerical solution of PDEs. \n",
    "\n",
    "The stencils used in FDM are derived from Taylor series. The Taylor series of a real or complex-valued function $f(x)$ that is infinitely differentiable at a real or complex number $a$ is the power series \n",
    "\n",
    ">$f(a) = \\sum_{n=0}^{\\infty}\\frac{f^{(n)}(a)}{n\\!}(x-a)^{n}$\n",
    "\n",
    "where $f^{(n)}(a)$ denotes the *n*th derivative of $f$ evaluated at the point $a$. The derivative of order zero of $f$ is defined to be $f$ itself and $(x − a)^{0}$ and $0\\!$  are both defined to be 1.\n",
    "\n",
    "A finite difference is a mathematical expression of the form $f(x + b) − f (x + a)$. \n",
    "\n",
    "Commonly the following types are considered: \n",
    "\n",
    "The forward difference \n",
    "\n",
    ">$\\Delta_{h}[f](x)=f(x+h)-f(x)$,\n",
    "\n",
    "the backward difference \n",
    "\n",
    ">$\\nabla_{h}[f](x)=f(x)-f(x-h)$,\n",
    "\n",
    "and finally the central differences \n",
    "\n",
    ">$\\delta_{h}[f](x)=f(x+\\frac{1}{2}h)-f(x-\\frac{1}{2}h)$.\n",
    "\n",
    "But, what about their relation with the derivatives? The derivative of a function $f$ at a point $x$ is defined by the limit\n",
    "\n",
    ">$f'(x) = \\lim_{h \\to 0} \\frac{f(x+h)-f(x)}{h}$.\n",
    "\n",
    "For non-zero values of $h$ as we approach to zero\n",
    "\n",
    ">$f'(x) = \\lim_{h \\to 0} \\frac{\\Delta_{h}[f](x)}{h}$.\n",
    "\n",
    "Hence, the forward difference divided by $h$ approximates the derivative when $h$ is small. The error in this approximation can be derived from Taylor's theorem.\n",
    "\n",
    "Consider the following ordinary differential equation with boundary conditions in $x\\in[0,1]$\n",
    "\n",
    "> $ u'(x) = 3u(x) + 2$\n",
    "\n",
    "> $u(x=0) = 1/3$\n",
    "\n",
    "Using the Euler method or the forward difference scheme we approximate\n",
    "\n",
    "> $ u'(x) \\approx \\frac{u(x+h) - u(x)}{h}$\n",
    "\n",
    "A discretized form of the ODE is \n",
    "\n",
    "> $ u(x+h) = (1+3h)u(x) + 2h$\n",
    "\n",
    "The last equation can be used to numerically solve the problem."
   ]
  },
  {
   "cell_type": "code",
   "execution_count": 1,
   "metadata": {},
   "outputs": [],
   "source": [
    "import math\n",
    "import numpy as np\n",
    "import matplotlib.pyplot as plt"
   ]
  },
  {
   "cell_type": "code",
   "execution_count": 2,
   "metadata": {},
   "outputs": [],
   "source": [
    "# we begin with the domain discretization\n",
    "a, b = 0.0, 1.0\n",
    "N = 1000\n",
    "xi=np.linspace(a,b,N)\n",
    "\n",
    "# define the step\n",
    "h = xi[1]-xi[0]\n"
   ]
  },
  {
   "cell_type": "code",
   "execution_count": 3,
   "metadata": {},
   "outputs": [],
   "source": [
    "#print(xi, a, b)\n",
    "#print(h)\n",
    "#print(len(xi))"
   ]
  },
  {
   "cell_type": "code",
   "execution_count": 4,
   "metadata": {},
   "outputs": [],
   "source": [
    "# initialize the arrays\n",
    "A = np.zeros((N,N))\n",
    "b = np.zeros((N,1))\n",
    "#print(A)\n",
    "#print(b)"
   ]
  },
  {
   "cell_type": "code",
   "execution_count": 5,
   "metadata": {},
   "outputs": [],
   "source": [
    "# preview the range content\n",
    "#print(list(range(0,N)))"
   ]
  },
  {
   "cell_type": "code",
   "execution_count": 6,
   "metadata": {},
   "outputs": [],
   "source": [
    "A[0][0] = 1\n",
    "b[0] = 1/3\n",
    "for ii in range(1,N): #for each row\n",
    "    b[ii] = -2*h\n",
    "    for jj in range(0, N): #for each column\n",
    "        if (jj == ii-1):\n",
    "            A[ii][jj] = (1+3*h)\n",
    "        elif (jj == ii):\n",
    "            A[ii][jj] = -1\n",
    "        \n",
    "#print(A)\n",
    "#print(b)"
   ]
  },
  {
   "cell_type": "code",
   "execution_count": 7,
   "metadata": {},
   "outputs": [],
   "source": [
    "#solve linear system\n",
    "ui = np.linalg.solve(A, b)\n",
    "#print(xi)"
   ]
  },
  {
   "cell_type": "code",
   "execution_count": 8,
   "metadata": {},
   "outputs": [
    {
     "data": {
      "text/plain": [
       "Text(0, 0.5, 'ui(x)')"
      ]
     },
     "execution_count": 8,
     "metadata": {},
     "output_type": "execute_result"
    },
    {
     "data": {
      "image/png": "[encoded data removed]",
      "text/plain": [
       "<Figure size 432x288 with 1 Axes>"
      ]
     },
     "metadata": {
      "needs_background": "light"
     },
     "output_type": "display_data"
    }
   ],
   "source": [
    "plt.plot(xi, ui, 'b')\n",
    "plt.title('Numerical solution')\n",
    "plt.xlabel('x', fontsize=12)\n",
    "plt.ylabel('y', fontsize=12)\n",
    "plt.xlabel('x')\n",
    "plt.ylabel('ui(x)')"
   ]
  },
  {
   "cell_type": "markdown",
   "metadata": {},
   "source": [
    "The analytic solution for this ODE is the following\n",
    "\n",
    "> $u(x) = c_{1}e^{3x}-2/3$\n",
    "\n",
    "> $ c_{1} = 1, u(x=0) = 1/3$"
   ]
  },
  {
   "cell_type": "code",
   "execution_count": 9,
   "metadata": {},
   "outputs": [
    {
     "data": {
      "text/plain": [
       "Text(0, 0.5, 'u(x)')"
      ]
     },
     "execution_count": 9,
     "metadata": {},
     "output_type": "execute_result"
    },
    {
     "data": {
      "image/png": "[encoded data removed]",
      "text/plain": [
       "<Figure size 432x288 with 1 Axes>"
      ]
     },
     "metadata": {
      "needs_background": "light"
     },
     "output_type": "display_data"
    }
   ],
   "source": [
    "# comparison with analytic solution\n",
    "xx = np.linspace(0,1.0,100)\n",
    "c1 = 1\n",
    "# change resolution for plot\n",
    "ux = c1*np.exp(3*xx)-2/3\n",
    "plt.plot(xx, ux, 'r')\n",
    "\n",
    "# the discretization is small and the dots in the figure would be too dense!\n",
    "if N>100:\n",
    "    plt.plot(xi[1:len(xi):25], ui[1:len(ui):25], 'bo')\n",
    "else:\n",
    "    plt.plot(xi, ui, 'bo')\n",
    "    \n",
    "plt.title('Comparison with analytic solution')\n",
    "plt.xlabel('x', fontsize=12)\n",
    "plt.ylabel('y', fontsize=12)\n",
    "plt.xlabel('x')\n",
    "plt.ylabel('u(x)')"
   ]
  },
  {
   "cell_type": "code",
   "execution_count": null,
   "metadata": {},
   "outputs": [],
   "source": []
  }
 ],
 "metadata": {
  "kernelspec": {
   "display_name": "Python 3",
   "language": "python",
   "name": "python3"
  },
  "language_info": {
   "codemirror_mode": {
    "name": "ipython",
    "version": 3
   },
   "file_extension": ".py",
   "mimetype": "text/x-python",
   "name": "python",
   "nbconvert_exporter": "python",
   "pygments_lexer": "ipython3",
   "version": "3.7.3"
  }
 },
 "nbformat": 4,
 "nbformat_minor": 2
}
